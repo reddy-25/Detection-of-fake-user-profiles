{
  "nbformat": 4,
  "nbformat_minor": 5,
  "metadata": {
    "kernelspec": {
      "display_name": "Python 3",
      "language": "python",
      "name": "python3"
    },
    "language_info": {
      "codemirror_mode": {
        "name": "ipython",
        "version": 3
      },
      "file_extension": ".py",
      "mimetype": "text/x-python",
      "name": "python",
      "nbconvert_exporter": "python",
      "pygments_lexer": "ipython3",
      "version": "3.7.10"
    },
    "colab": {
      "name": "fake_user_profile_detection.ipynb",
      "provenance": [],
      "collapsed_sections": []
    }
  },
  "cells": [
    {
      "cell_type": "code",
      "metadata": {
        "colab": {
          "base_uri": "https://localhost:8080/"
        },
        "id": "48521a6b",
        "outputId": "0061fa2f-f828-4b1c-9e8a-1ffb2f325ca5"
      },
      "source": [
        "!pip install -U scikit-learn\n",
        "!pip install -U sexmachine"
      ],
      "id": "48521a6b",
      "execution_count": null,
      "outputs": [
        {
          "output_type": "stream",
          "name": "stdout",
          "text": [
            "Looking in indexes: https://pypi.org/simple, https://us-python.pkg.dev/colab-wheels/public/simple/\n",
            "Requirement already satisfied: scikit-learn in /usr/local/lib/python3.7/dist-packages (1.0.2)\n",
            "Requirement already satisfied: scipy>=1.1.0 in /usr/local/lib/python3.7/dist-packages (from scikit-learn) (1.7.3)\n",
            "Requirement already satisfied: numpy>=1.14.6 in /usr/local/lib/python3.7/dist-packages (from scikit-learn) (1.21.6)\n",
            "Requirement already satisfied: threadpoolctl>=2.0.0 in /usr/local/lib/python3.7/dist-packages (from scikit-learn) (3.1.0)\n",
            "Requirement already satisfied: joblib>=0.11 in /usr/local/lib/python3.7/dist-packages (from scikit-learn) (1.1.0)\n",
            "Looking in indexes: https://pypi.org/simple, https://us-python.pkg.dev/colab-wheels/public/simple/\n",
            "Collecting sexmachine\n",
            "  Downloading SexMachine-0.1.1.tar.gz (336 kB)\n",
            "\u001b[K     |████████████████████████████████| 336 kB 4.3 MB/s \n",
            "\u001b[?25hBuilding wheels for collected packages: sexmachine\n",
            "  Building wheel for sexmachine (setup.py) ... \u001b[?25l\u001b[?25hdone\n",
            "  Created wheel for sexmachine: filename=SexMachine-0.1.1-py3-none-any.whl size=379460 sha256=3ddd5b1efd4b15c4b52bc2768a441112a51106d654584cdfde86fad108aef58f\n",
            "  Stored in directory: /root/.cache/pip/wheels/dd/0e/e8/1835afdbc052699e48971e735d40625bdd9ee2c335eb98af3a\n",
            "Successfully built sexmachine\n",
            "Installing collected packages: sexmachine\n",
            "Successfully installed sexmachine-0.1.1\n"
          ]
        }
      ]
    },
    {
      "cell_type": "code",
      "metadata": {
        "id": "225d8bba"
      },
      "source": [
        "import sys\n",
        "import csv\n",
        "import datetime\n",
        "import numpy as np\n",
        "import pandas as pd\n",
        "import matplotlib.pyplot as plt\n",
        "from datetime import datetime\n",
        "from sklearn.compose import ColumnTransformer\n",
        "from sklearn.preprocessing import OneHotEncoder\n",
        "from sklearn.impute import SimpleImputer\n",
        "from sklearn.model_selection import cross_validate\n",
        "from sklearn import metrics\n",
        "from sklearn import preprocessing\n",
        "from sklearn.linear_model import LinearRegression\n",
        "from sklearn.svm import SVC\n",
        "from sklearn.metrics import roc_curve, auc\n",
        "from sklearn.model_selection import StratifiedKFold\n",
        "from sklearn.model_selection import GridSearchCV\n",
        "from sklearn.metrics import accuracy_score\n",
        "from sklearn.model_selection import learning_curve  \n",
        "from sklearn.metrics import classification_report\n",
        "from sklearn.metrics import confusion_matrix\n",
        "from sklearn.model_selection import ShuffleSplit\n",
        "from sklearn.model_selection import cross_val_score\n",
        "from sklearn.model_selection import train_test_split\n",
        "# %matplotlib inline \n",
        "\n",
        "from sklearn.model_selection import cross_val_score"
      ],
      "id": "225d8bba",
      "execution_count": null,
      "outputs": []
    },
    {
      "cell_type": "code",
      "metadata": {
        "id": "733b5c8d"
      },
      "source": [
        "import sexmachine.detector as gender\n"
      ],
      "id": "733b5c8d",
      "execution_count": null,
      "outputs": []
    },
    {
      "cell_type": "code",
      "metadata": {
        "id": "188f723f"
      },
      "source": [
        "def read_datasets():\n",
        "    \"\"\" Reads users profile from csv files \"\"\"\n",
        "    genuine_users = pd.read_csv(\"users.csv\")\n",
        "    fake_users = pd.read_csv(\"fusers.csv\")\n",
        "    print(genuine_users.columns)\n",
        "    print(genuine_users.describe())\n",
        "    print(fake_users.describe())\n",
        "    x=pd.concat([genuine_users,fake_users])   \n",
        "    y=len(genuine_users)*[1] + len(fake_users)*[0]\n",
        "    return x,y"
      ],
      "id": "188f723f",
      "execution_count": null,
      "outputs": []
    },
    {
      "cell_type": "code",
      "metadata": {
        "id": "7585969d"
      },
      "source": [
        "def predict_sex(name):\n",
        "    sex_predictor = gender.Detector(unknown_value=u\"unknown\",case_sensitive=False)\n",
        "    first_name= name.str.split(' ').str.get(0)\n",
        "    sex= first_name.apply(sex_predictor.get_gender)\n",
        "    sex_dict={'female': -2, 'mostly_female': -1,'unknown':0,'mostly_male':1, 'male': 2}\n",
        "    sex_code = sex.map(sex_dict).astype(int)\n",
        "    return sex_code"
      ],
      "id": "7585969d",
      "execution_count": null,
      "outputs": []
    },
    {
      "cell_type": "code",
      "metadata": {
        "id": "85ddae49"
      },
      "source": [
        "def extract_features(x):\n",
        "    #lang_list = list(enumerate(np.unique(x['lang'])))   \n",
        "    #lang_dict = { name : i for i, name in lang_list }             \n",
        "    #x.loc[:,'lang_code'] = x['lang'].map( lambda x: lang_dict[x]).astype(int)\n",
        "    #x.loc[:,'sex_code']=predict_sex(x['name'])\n",
        "    #feature_columns_to_use = ['statuses_count','followers_count','friends_count','favourites_count','listed_count','sex_code','lang']\n",
        "    feature_columns_to_use = ['statuses_count','followers_count','friends_count','favourites_count','listed_count','lang']\n",
        "    x=x.loc[:,feature_columns_to_use]\n",
        "    y=pd.get_dummies(x.lang)\n",
        "    del x[\"lang\"]\n",
        "    x = pd.concat([y,x], axis=1)\n",
        "    return x\n"
      ],
      "id": "85ddae49",
      "execution_count": null,
      "outputs": []
    },
    {
      "cell_type": "code",
      "metadata": {
        "id": "e6c3da42"
      },
      "source": [
        "\n",
        "def plot_learning_curve(estimator, title, X, y, ylim=None, cv=None,\n",
        "                        n_jobs=1, train_sizes=np.linspace(.1, 1.0, 5)):\n",
        "    plt.figure()\n",
        "    plt.title(title)\n",
        "    if ylim is not None:\n",
        "        plt.ylim(*ylim)\n",
        "    plt.xlabel(\"Training examples\")\n",
        "    plt.ylabel(\"Score\")\n",
        "    train_sizes, train_scores, test_scores = learning_curve(\n",
        "        estimator, X, y, cv=cv, n_jobs=n_jobs, train_sizes=train_sizes)\n",
        "    train_scores_mean = np.mean(train_scores, axis=1)\n",
        "    train_scores_std = np.std(train_scores, axis=1)\n",
        "    test_scores_mean = np.mean(test_scores, axis=1)\n",
        "    test_scores_std = np.std(test_scores, axis=1)\n",
        "    plt.grid()\n",
        "\n",
        "    plt.fill_between(train_sizes, train_scores_mean - train_scores_std,\n",
        "                     train_scores_mean + train_scores_std, alpha=0.1,\n",
        "                     color=\"r\")\n",
        "    plt.fill_between(train_sizes, test_scores_mean - test_scores_std,\n",
        "                     test_scores_mean + test_scores_std, alpha=0.1, color=\"g\")\n",
        "    plt.plot(train_sizes, train_scores_mean, 'o-', color=\"r\",\n",
        "             label=\"Training score\")\n",
        "    plt.plot(train_sizes, test_scores_mean, 'o-', color=\"g\",\n",
        "             label=\"Cross-validation score\")\n",
        "\n",
        "    plt.legend(loc=\"best\")\n",
        "    return plt"
      ],
      "id": "e6c3da42",
      "execution_count": null,
      "outputs": []
    },
    {
      "cell_type": "code",
      "metadata": {
        "id": "6761748c"
      },
      "source": [
        "def plot_confusion_matrix(cm, title='Confusion matrix', cmap=plt.cm.Blues):\n",
        "    target_names=['Fake','Genuine']\n",
        "    plt.imshow(cm, interpolation='nearest', cmap=cmap)\n",
        "    plt.title(title)\n",
        "    plt.colorbar()\n",
        "    tick_marks = np.arange(len(target_names))\n",
        "    plt.xticks(tick_marks, target_names, rotation=45)\n",
        "    plt.yticks(tick_marks, target_names)\n",
        "    plt.tight_layout()\n",
        "    plt.ylabel('True label')\n",
        "    plt.xlabel('Predicted label')"
      ],
      "id": "6761748c",
      "execution_count": null,
      "outputs": []
    },
    {
      "cell_type": "code",
      "metadata": {
        "id": "a0b5b67a"
      },
      "source": [
        "\n",
        "def plot_roc_curve(y_test, y_pred):\n",
        "    false_positive_rate, true_positive_rate, thresholds = roc_curve(y_test, y_pred)\n",
        "    \n",
        "    print(\"False Positive rate: \",false_positive_rate)\n",
        "    print(\"True Positive rate: \",true_positive_rate)\n",
        "\n",
        "    \n",
        "    roc_auc = auc(false_positive_rate, true_positive_rate)\n",
        "\n",
        "    plt.title('Receiver Operating Characteristic')\n",
        "    plt.plot(false_positive_rate, true_positive_rate, 'b',\n",
        "    label='AUC = %0.2f'% roc_auc)\n",
        "    plt.legend(loc='lower right')\n",
        "    plt.plot([0,1],[0,1],'r--')\n",
        "    plt.xlim([-0.1,1.2])\n",
        "    plt.ylim([-0.1,1.2])\n",
        "    plt.ylabel('True Positive Rate')\n",
        "    plt.xlabel('False Positive Rate')\n",
        "    plt.show()"
      ],
      "id": "a0b5b67a",
      "execution_count": null,
      "outputs": []
    },
    {
      "cell_type": "code",
      "metadata": {
        "id": "03c7e156"
      },
      "source": [
        "def train(X_train,y_train,X_test):\n",
        "    \"\"\" Trains and predicts dataset with a SVM classifier \"\"\"\n",
        "    # Scaling features\n",
        "    X_train=preprocessing.scale(X_train)\n",
        "    X_test=preprocessing.scale(X_test)\n",
        "\n",
        "    Cs = 10.0 ** np.arange(-2,3,.5)\n",
        "    gammas = 10.0 ** np.arange(-2,3,.5)\n",
        "    param = [{'gamma': gammas, 'C': Cs}]\n",
        "    cvk = StratifiedKFold(n_splits=2)\n",
        "    classifier = SVC()\n",
        "    clf = GridSearchCV(classifier,param_grid=param,cv=cvk)\n",
        "    clf.fit(X_train,y_train)\n",
        "    print(\"The best classifier is: \",clf.best_estimator_)\n",
        "    clf.best_estimator_.fit(X_train,y_train)\n",
        "    # Estimate score\n",
        "    scores = cross_val_score(clf.best_estimator_, X_train,y_train, cv=5)\n",
        "    print(scores)\n",
        "    print('Estimated score: %0.5f (+/- %0.5f)' % (scores.mean(), scores.std() / 2))\n",
        "    title = 'Learning Curves (SVM, rbf kernel, $\\gamma=%.6f$)' %clf.best_estimator_.gamma\n",
        "    plot_learning_curve(clf.best_estimator_, title, X_train, y_train, cv=5)\n",
        "    plt.show()\n",
        "    # Predict class\n",
        "    y_pred = clf.best_estimator_.predict(X_test)\n",
        "    return y_test,y_pred\n"
      ],
      "id": "03c7e156",
      "execution_count": null,
      "outputs": []
    },
    {
      "cell_type": "code",
      "metadata": {
        "colab": {
          "base_uri": "https://localhost:8080/"
        },
        "id": "530baa3c",
        "outputId": "57379f85-9094-460a-821c-ba309d8d35d3"
      },
      "source": [
        "\n",
        "print(\"reading datasets.....\\n\")\n",
        "x,y=read_datasets()\n",
        "print(x.shape)\n"
      ],
      "id": "530baa3c",
      "execution_count": null,
      "outputs": [
        {
          "output_type": "stream",
          "name": "stdout",
          "text": [
            "reading datasets.....\n",
            "\n",
            "Index(['id', 'name', 'screen_name', 'statuses_count', 'followers_count',\n",
            "       'friends_count', 'favourites_count', 'listed_count', 'created_at',\n",
            "       'url', 'lang', 'time_zone', 'location', 'default_profile',\n",
            "       'default_profile_image', 'geo_enabled', 'profile_image_url',\n",
            "       'profile_banner_url', 'profile_use_background_image',\n",
            "       'profile_background_image_url_https', 'profile_text_color',\n",
            "       'profile_image_url_https', 'profile_sidebar_border_color',\n",
            "       'profile_background_tile', 'profile_sidebar_fill_color',\n",
            "       'profile_background_image_url', 'profile_background_color',\n",
            "       'profile_link_color', 'utc_offset', 'protected', 'verified',\n",
            "       'description', 'updated', 'dataset'],\n",
            "      dtype='object')\n",
            "                 id  statuses_count  followers_count  friends_count  \\\n",
            "count  1.481000e+03     1481.000000      1481.000000    1481.000000   \n",
            "mean   4.000432e+08     3140.782579       690.922350     403.128292   \n",
            "std    2.961304e+08     6391.957957     11058.508986     610.572368   \n",
            "min    3.610511e+06        3.000000         0.000000       0.000000   \n",
            "25%    1.572905e+08      315.000000        45.000000     115.000000   \n",
            "50%    3.822478e+08      992.000000       102.000000     226.000000   \n",
            "75%    5.229255e+08     3029.000000       259.000000     437.000000   \n",
            "max    1.219743e+09    79876.000000    408372.000000   12773.000000   \n",
            "\n",
            "       favourites_count  listed_count  default_profile  default_profile_image  \\\n",
            "count       1481.000000   1481.000000            397.0                    4.0   \n",
            "mean         439.611749      5.360567              1.0                    1.0   \n",
            "std         1970.556008     32.183232              0.0                    0.0   \n",
            "min            0.000000      0.000000              1.0                    1.0   \n",
            "25%            4.000000      0.000000              1.0                    1.0   \n",
            "50%           29.000000      1.000000              1.0                    1.0   \n",
            "75%          176.000000      2.000000              1.0                    1.0   \n",
            "max        44349.000000    744.000000              1.0                    1.0   \n",
            "\n",
            "       geo_enabled  profile_use_background_image  profile_background_tile  \\\n",
            "count        719.0                        1423.0                    486.0   \n",
            "mean           1.0                           1.0                      1.0   \n",
            "std            0.0                           0.0                      0.0   \n",
            "min            1.0                           1.0                      1.0   \n",
            "25%            1.0                           1.0                      1.0   \n",
            "50%            1.0                           1.0                      1.0   \n",
            "75%            1.0                           1.0                      1.0   \n",
            "max            1.0                           1.0                      1.0   \n",
            "\n",
            "         utc_offset  protected  verified  \n",
            "count   1063.000000        0.0       0.0  \n",
            "mean    1535.841957        NaN       NaN  \n",
            "std     7805.690161        NaN       NaN  \n",
            "min   -39600.000000        NaN       NaN  \n",
            "25%     3600.000000        NaN       NaN  \n",
            "50%     3600.000000        NaN       NaN  \n",
            "75%     3600.000000        NaN       NaN  \n",
            "max    36000.000000        NaN       NaN  \n",
            "                 id  statuses_count  followers_count  friends_count  \\\n",
            "count  1.337000e+03     1337.000000      1337.000000    1337.000000   \n",
            "mean   6.897381e+08       45.442034        16.842184     386.761406   \n",
            "std    2.135086e+08       97.765536         8.011299     210.139672   \n",
            "min    3.738459e+07        0.000000         0.000000       0.000000   \n",
            "25%    6.163001e+08       26.000000        13.000000     278.000000   \n",
            "50%    6.170879e+08       36.000000        18.000000     344.000000   \n",
            "75%    6.192317e+08       53.000000        22.000000     538.000000   \n",
            "max    1.391998e+09     1576.000000        73.000000    1998.000000   \n",
            "\n",
            "       favourites_count  listed_count  url  default_profile  \\\n",
            "count       1337.000000   1337.000000  0.0           1331.0   \n",
            "mean           7.383695      0.002992  NaN              1.0   \n",
            "std           89.155940      0.054636  NaN              0.0   \n",
            "min            0.000000      0.000000  NaN              1.0   \n",
            "25%            0.000000      0.000000  NaN              1.0   \n",
            "50%            0.000000      0.000000  NaN              1.0   \n",
            "75%            0.000000      0.000000  NaN              1.0   \n",
            "max         1402.000000      1.000000  NaN              1.0   \n",
            "\n",
            "       default_profile_image  geo_enabled  profile_use_background_image  \\\n",
            "count                    4.0          2.0                        1337.0   \n",
            "mean                     1.0          1.0                           1.0   \n",
            "std                      0.0          0.0                           0.0   \n",
            "min                      1.0          1.0                           1.0   \n",
            "25%                      1.0          1.0                           1.0   \n",
            "50%                      1.0          1.0                           1.0   \n",
            "75%                      1.0          1.0                           1.0   \n",
            "max                      1.0          1.0                           1.0   \n",
            "\n",
            "       profile_background_tile    utc_offset  protected  verified  \n",
            "count                      3.0      6.000000        0.0       0.0  \n",
            "mean                       1.0  -8700.000000        NaN       NaN  \n",
            "std                        0.0  31247.847926        NaN       NaN  \n",
            "min                        1.0 -39600.000000        NaN       NaN  \n",
            "25%                        1.0 -36000.000000        NaN       NaN  \n",
            "50%                        1.0  -8100.000000        NaN       NaN  \n",
            "75%                        1.0  19800.000000        NaN       NaN  \n",
            "max                        1.0  19800.000000        NaN       NaN  \n",
            "(2818, 34)\n"
          ]
        }
      ]
    },
    {
      "cell_type": "code",
      "metadata": {
        "colab": {
          "base_uri": "https://localhost:8080/"
        },
        "id": "9bd86cd3",
        "outputId": "c0557246-4ba1-4a56-c6d4-1a59e74b8ab9"
      },
      "source": [
        "print(\"extracting featues.....\\n\")\n",
        "x=extract_features(x)\n",
        "print(x.columns)\n",
        "print(x.describe())"
      ],
      "id": "9bd86cd3",
      "execution_count": null,
      "outputs": [
        {
          "output_type": "stream",
          "name": "stdout",
          "text": [
            "extracting featues.....\n",
            "\n",
            "Index(['de', 'en', 'es', 'fr', 'gl', 'it', 'nl', 'tr', 'statuses_count',\n",
            "       'followers_count', 'friends_count', 'favourites_count', 'listed_count'],\n",
            "      dtype='object')\n",
            "                de           en           es           fr           gl  \\\n",
            "count  2818.000000  2818.000000  2818.000000  2818.000000  2818.000000   \n",
            "mean      0.000710     0.533002     0.003903     0.001065     0.000355   \n",
            "std       0.026636     0.498998     0.062367     0.032616     0.018838   \n",
            "min       0.000000     0.000000     0.000000     0.000000     0.000000   \n",
            "25%       0.000000     0.000000     0.000000     0.000000     0.000000   \n",
            "50%       0.000000     1.000000     0.000000     0.000000     0.000000   \n",
            "75%       0.000000     1.000000     0.000000     0.000000     0.000000   \n",
            "max       1.000000     1.000000     1.000000     1.000000     1.000000   \n",
            "\n",
            "                it           nl           tr  statuses_count  followers_count  \\\n",
            "count  2818.000000  2818.000000  2818.000000     2818.000000      2818.000000   \n",
            "mean      0.460256     0.000355     0.000355     1672.198368       371.105039   \n",
            "std       0.498506     0.018838     0.018838     4884.669157      8022.631339   \n",
            "min       0.000000     0.000000     0.000000        0.000000         0.000000   \n",
            "25%       0.000000     0.000000     0.000000       35.000000        17.000000   \n",
            "50%       0.000000     0.000000     0.000000       77.000000        26.000000   \n",
            "75%       1.000000     0.000000     0.000000     1087.750000       111.000000   \n",
            "max       1.000000     1.000000     1.000000    79876.000000    408372.000000   \n",
            "\n",
            "       friends_count  favourites_count  listed_count  \n",
            "count    2818.000000       2818.000000   2818.000000  \n",
            "mean      395.363023        234.541164      2.818666  \n",
            "std       465.694322       1445.847248     23.480430  \n",
            "min         0.000000          0.000000      0.000000  \n",
            "25%       168.000000          0.000000      0.000000  \n",
            "50%       306.000000          0.000000      0.000000  \n",
            "75%       519.000000         37.000000      1.000000  \n",
            "max     12773.000000      44349.000000    744.000000  \n"
          ]
        }
      ]
    },
    {
      "cell_type": "code",
      "metadata": {
        "colab": {
          "base_uri": "https://localhost:8080/"
        },
        "id": "08a7080b",
        "outputId": "6d6e17ad-02f2-4265-925c-9ffcffa0b472"
      },
      "source": [
        "print(\"spliting datasets in train and test dataset...\\n\")\n",
        "X_train,X_test,y_train,y_test = train_test_split(x, y, test_size=0.20, random_state=44)\n",
        "z = y_test"
      ],
      "id": "08a7080b",
      "execution_count": null,
      "outputs": [
        {
          "output_type": "stream",
          "name": "stdout",
          "text": [
            "spliting datasets in train and test dataset...\n",
            "\n"
          ]
        }
      ]
    },
    {
      "cell_type": "markdown",
      "source": [
        "# Random Forest Classifier"
      ],
      "metadata": {
        "id": "K0AZRzpz3npO"
      },
      "id": "K0AZRzpz3npO"
    },
    {
      "cell_type": "code",
      "metadata": {
        "colab": {
          "base_uri": "https://localhost:8080/"
        },
        "id": "bq02J9teCOZG",
        "outputId": "26e63022-561a-42a5-b097-a57d2f2ce88c"
      },
      "source": [
        "from sklearn.ensemble import RandomForestClassifier\n",
        "classifier = RandomForestClassifier(n_estimators=10, random_state=0)\n",
        "classifier.fit(X_train, y_train)\n",
        "Y_pred = classifier.predict(X_test)\n",
        "print(confusion_matrix(y_test,Y_pred))\n",
        "print(\"Accuracy for Random Forest Classifier: \" +str(accuracy_score(y_test, Y_pred)))\n",
        "print(classification_report(y_test, y_pred, target_names=['Fake','Genuine']))"
      ],
      "id": "bq02J9teCOZG",
      "execution_count": null,
      "outputs": [
        {
          "output_type": "stream",
          "name": "stdout",
          "text": [
            "[[266   1]\n",
            " [  1 296]]\n",
            "Accuracy for Random Forest Classifier: 0.9964539007092199\n",
            "              precision    recall  f1-score   support\n",
            "\n",
            "        Fake       0.99      1.00      0.99       267\n",
            "     Genuine       1.00      0.99      0.99       297\n",
            "\n",
            "    accuracy                           0.99       564\n",
            "   macro avg       0.99      0.99      0.99       564\n",
            "weighted avg       0.99      0.99      0.99       564\n",
            "\n"
          ]
        }
      ]
    },
    {
      "cell_type": "markdown",
      "source": [
        "# Support Vector Classifier"
      ],
      "metadata": {
        "id": "CAkDHolv3tGN"
      },
      "id": "CAkDHolv3tGN"
    },
    {
      "cell_type": "code",
      "metadata": {
        "colab": {
          "base_uri": "https://localhost:8080/",
          "height": 401
        },
        "id": "2ce5a480",
        "outputId": "9164178e-e758-4f3f-ae68-f0fb6c2ff7cb"
      },
      "source": [
        "print(\"training datasets.......\\n\")\n",
        "y_test,y_pred = train(X_train,y_train,X_test)\n",
        "print(y_test==z)"
      ],
      "id": "2ce5a480",
      "execution_count": null,
      "outputs": [
        {
          "output_type": "stream",
          "name": "stdout",
          "text": [
            "training datasets.......\n",
            "\n",
            "The best classifier is:  SVC(C=316.22776601683796, gamma=1.0)\n",
            "[0.99778271 0.99778271 0.99556541 0.99778271 0.99777778]\n",
            "Estimated score: 0.99734 (+/- 0.00044)\n"
          ]
        },
        {
          "output_type": "display_data",
          "data": {
            "text/plain": [
              "<Figure size 432x288 with 1 Axes>"
            ],
            "image/png": "[encoded data removed]"
          },
          "metadata": {
            "needs_background": "light"
          }
        },
        {
          "output_type": "stream",
          "name": "stdout",
          "text": [
            "True\n"
          ]
        }
      ]
    },
    {
      "cell_type": "code",
      "metadata": {
        "scrolled": true,
        "colab": {
          "base_uri": "https://localhost:8080/"
        },
        "id": "854dfa8c",
        "outputId": "7fe6533a-f46b-40c5-d788-66a093615c8f"
      },
      "source": [
        "print('Classification Accuracy on Test dataset: ' ,accuracy_score(y_test, y_pred))"
      ],
      "id": "854dfa8c",
      "execution_count": null,
      "outputs": [
        {
          "output_type": "stream",
          "name": "stdout",
          "text": [
            "Classification Accuracy on Test dataset:  0.9911347517730497\n"
          ]
        }
      ]
    },
    {
      "cell_type": "code",
      "metadata": {
        "colab": {
          "base_uri": "https://localhost:8080/",
          "height": 362
        },
        "id": "25c7195d",
        "outputId": "d65d1891-7a09-4ae0-e17b-469db681fc59"
      },
      "source": [
        "cm=confusion_matrix(y_test, y_pred)\n",
        "print('Confusion matrix, without normalization')\n",
        "print(cm)\n",
        "plot_confusion_matrix(cm)"
      ],
      "id": "25c7195d",
      "execution_count": null,
      "outputs": [
        {
          "output_type": "stream",
          "text": [
            "Confusion matrix, without normalization\n",
            "[[266   1]\n",
            " [  4 293]]\n"
          ],
          "name": "stdout"
        },
        {
          "output_type": "display_data",
          "data": {
            "image/png": "[encoded data removed]",
            "text/plain": [
              "<Figure size 432x288 with 2 Axes>"
            ]
          },
          "metadata": {
            "tags": [],
            "needs_background": "light"
          }
        }
      ]
    },
    {
      "cell_type": "code",
      "metadata": {
        "scrolled": true,
        "colab": {
          "base_uri": "https://localhost:8080/"
        },
        "id": "9d618f37",
        "outputId": "04b2e589-d726-43fe-9a0f-18291a6af271"
      },
      "source": [
        "print(classification_report(y_test, y_pred, target_names=['Fake','Genuine']))"
      ],
      "id": "9d618f37",
      "execution_count": null,
      "outputs": [
        {
          "output_type": "stream",
          "text": [
            "              precision    recall  f1-score   support\n",
            "\n",
            "        Fake       0.99      1.00      0.99       267\n",
            "     Genuine       1.00      0.99      0.99       297\n",
            "\n",
            "    accuracy                           0.99       564\n",
            "   macro avg       0.99      0.99      0.99       564\n",
            "weighted avg       0.99      0.99      0.99       564\n",
            "\n"
          ],
          "name": "stdout"
        }
      ]
    },
    {
      "cell_type": "code",
      "metadata": {
        "colab": {
          "base_uri": "https://localhost:8080/",
          "height": 329
        },
        "id": "ae8aaaec",
        "outputId": "d242f0f5-6260-413b-83a7-a5423ea546be"
      },
      "source": [
        "plot_roc_curve(y_test, y_pred)"
      ],
      "id": "ae8aaaec",
      "execution_count": null,
      "outputs": [
        {
          "output_type": "stream",
          "text": [
            "False Positive rate:  [0.         0.00374532 1.        ]\n",
            "True Positive rate:  [0.         0.98653199 1.        ]\n"
          ],
          "name": "stdout"
        },
        {
          "output_type": "display_data",
          "data": {
            "image/png": "[encoded data removed]",
            "text/plain": [
              "<Figure size 432x288 with 1 Axes>"
            ]
          },
          "metadata": {
            "tags": [],
            "needs_background": "light"
          }
        }
      ]
    },
    {
      "cell_type": "code",
      "metadata": {
        "colab": {
          "base_uri": "https://localhost:8080/"
        },
        "id": "QZhqnGYIHusu",
        "outputId": "303ebfa9-6d52-498c-f2f8-15643551f4ac"
      },
      "source": [
        "y_test = np.array(y_test)\n",
        "check = np.concatenate([(y_test).reshape(len(y_test),1), y_pred.reshape(len(y_pred), 1)],1)\n",
        "print(check[1:20,:])\n",
        "print(x)\n",
        "print(y)"
      ],
      "id": "QZhqnGYIHusu",
      "execution_count": null,
      "outputs": [
        {
          "output_type": "stream",
          "text": [
            "[[1 1]\n",
            " [1 1]\n",
            " [1 1]\n",
            " [0 0]\n",
            " [1 1]\n",
            " [0 0]\n",
            " [1 1]\n",
            " [1 1]\n",
            " [1 1]\n",
            " [1 1]\n",
            " [0 0]\n",
            " [0 0]\n",
            " [1 1]\n",
            " [1 1]\n",
            " [0 0]\n",
            " [1 1]\n",
            " [0 0]\n",
            " [1 1]\n",
            " [0 0]]\n",
            "      de  en  es  ...  friends_count  favourites_count  listed_count\n",
            "0      0   0   0  ...           2385               145            52\n",
            "1      0   1   0  ...            381                 9            40\n",
            "2      0   1   0  ...             87               323            16\n",
            "3      0   1   0  ...            622              1118            32\n",
            "4      0   0   0  ...             64                13             0\n",
            "...   ..  ..  ..  ...            ...               ...           ...\n",
            "1332   0   1   0  ...             17                 0             0\n",
            "1333   0   1   0  ...             17                 0             0\n",
            "1334   0   1   0  ...             15                 0             0\n",
            "1335   0   1   0  ...             16                 0             0\n",
            "1336   0   1   0  ...             17                 0             0\n",
            "\n",
            "[2818 rows x 13 columns]\n",
            "[1, 1, 1, 1, 1, 1, 1, 1, 1, 1, 1, 1, 1, 1, 1, 1, 1, 1, 1, 1, 1, 1, 1, 1, 1, 1, 1, 1, 1, 1, 1, 1, 1, 1, 1, 1, 1, 1, 1, 1, 1, 1, 1, 1, 1, 1, 1, 1, 1, 1, 1, 1, 1, 1, 1, 1, 1, 1, 1, 1, 1, 1, 1, 1, 1, 1, 1, 1, 1, 1, 1, 1, 1, 1, 1, 1, 1, 1, 1, 1, 1, 1, 1, 1, 1, 1, 1, 1, 1, 1, 1, 1, 1, 1, 1, 1, 1, 1, 1, 1, 1, 1, 1, 1, 1, 1, 1, 1, 1, 1, 1, 1, 1, 1, 1, 1, 1, 1, 1, 1, 1, 1, 1, 1, 1, 1, 1, 1, 1, 1, 1, 1, 1, 1, 1, 1, 1, 1, 1, 1, 1, 1, 1, 1, 1, 1, 1, 1, 1, 1, 1, 1, 1, 1, 1, 1, 1, 1, 1, 1, 1, 1, 1, 1, 1, 1, 1, 1, 1, 1, 1, 1, 1, 1, 1, 1, 1, 1, 1, 1, 1, 1, 1, 1, 1, 1, 1, 1, 1, 1, 1, 1, 1, 1, 1, 1, 1, 1, 1, 1, 1, 1, 1, 1, 1, 1, 1, 1, 1, 1, 1, 1, 1, 1, 1, 1, 1, 1, 1, 1, 1, 1, 1, 1, 1, 1, 1, 1, 1, 1, 1, 1, 1, 1, 1, 1, 1, 1, 1, 1, 1, 1, 1, 1, 1, 1, 1, 1, 1, 1, 1, 1, 1, 1, 1, 1, 1, 1, 1, 1, 1, 1, 1, 1, 1, 1, 1, 1, 1, 1, 1, 1, 1, 1, 1, 1, 1, 1, 1, 1, 1, 1, 1, 1, 1, 1, 1, 1, 1, 1, 1, 1, 1, 1, 1, 1, 1, 1, 1, 1, 1, 1, 1, 1, 1, 1, 1, 1, 1, 1, 1, 1, 1, 1, 1, 1, 1, 1, 1, 1, 1, 1, 1, 1, 1, 1, 1, 1, 1, 1, 1, 1, 1, 1, 1, 1, 1, 1, 1, 1, 1, 1, 1, 1, 1, 1, 1, 1, 1, 1, 1, 1, 1, 1, 1, 1, 1, 1, 1, 1, 1, 1, 1, 1, 1, 1, 1, 1, 1, 1, 1, 1, 1, 1, 1, 1, 1, 1, 1, 1, 1, 1, 1, 1, 1, 1, 1, 1, 1, 1, 1, 1, 1, 1, 1, 1, 1, 1, 1, 1, 1, 1, 1, 1, 1, 1, 1, 1, 1, 1, 1, 1, 1, 1, 1, 1, 1, 1, 1, 1, 1, 1, 1, 1, 1, 1, 1, 1, 1, 1, 1, 1, 1, 1, 1, 1, 1, 1, 1, 1, 1, 1, 1, 1, 1, 1, 1, 1, 1, 1, 1, 1, 1, 1, 1, 1, 1, 1, 1, 1, 1, 1, 1, 1, 1, 1, 1, 1, 1, 1, 1, 1, 1, 1, 1, 1, 1, 1, 1, 1, 1, 1, 1, 1, 1, 1, 1, 1, 1, 1, 1, 1, 1, 1, 1, 1, 1, 1, 1, 1, 1, 1, 1, 1, 1, 1, 1, 1, 1, 1, 1, 1, 1, 1, 1, 1, 1, 1, 1, 1, 1, 1, 1, 1, 1, 1, 1, 1, 1, 1, 1, 1, 1, 1, 1, 1, 1, 1, 1, 1, 1, 1, 1, 1, 1, 1, 1, 1, 1, 1, 1, 1, 1, 1, 1, 1, 1, 1, 1, 1, 1, 1, 1, 1, 1, 1, 1, 1, 1, 1, 1, 1, 1, 1, 1, 1, 1, 1, 1, 1, 1, 1, 1, 1, 1, 1, 1, 1, 1, 1, 1, 1, 1, 1, 1, 1, 1, 1, 1, 1, 1, 1, 1, 1, 1, 1, 1, 1, 1, 1, 1, 1, 1, 1, 1, 1, 1, 1, 1, 1, 1, 1, 1, 1, 1, 1, 1, 1, 1, 1, 1, 1, 1, 1, 1, 1, 1, 1, 1, 1, 1, 1, 1, 1, 1, 1, 1, 1, 1, 1, 1, 1, 1, 1, 1, 1, 1, 1, 1, 1, 1, 1, 1, 1, 1, 1, 1, 1, 1, 1, 1, 1, 1, 1, 1, 1, 1, 1, 1, 1, 1, 1, 1, 1, 1, 1, 1, 1, 1, 1, 1, 1, 1, 1, 1, 1, 1, 1, 1, 1, 1, 1, 1, 1, 1, 1, 1, 1, 1, 1, 1, 1, 1, 1, 1, 1, 1, 1, 1, 1, 1, 1, 1, 1, 1, 1, 1, 1, 1, 1, 1, 1, 1, 1, 1, 1, 1, 1, 1, 1, 1, 1, 1, 1, 1, 1, 1, 1, 1, 1, 1, 1, 1, 1, 1, 1, 1, 1, 1, 1, 1, 1, 1, 1, 1, 1, 1, 1, 1, 1, 1, 1, 1, 1, 1, 1, 1, 1, 1, 1, 1, 1, 1, 1, 1, 1, 1, 1, 1, 1, 1, 1, 1, 1, 1, 1, 1, 1, 1, 1, 1, 1, 1, 1, 1, 1, 1, 1, 1, 1, 1, 1, 1, 1, 1, 1, 1, 1, 1, 1, 1, 1, 1, 1, 1, 1, 1, 1, 1, 1, 1, 1, 1, 1, 1, 1, 1, 1, 1, 1, 1, 1, 1, 1, 1, 1, 1, 1, 1, 1, 1, 1, 1, 1, 1, 1, 1, 1, 1, 1, 1, 1, 1, 1, 1, 1, 1, 1, 1, 1, 1, 1, 1, 1, 1, 1, 1, 1, 1, 1, 1, 1, 1, 1, 1, 1, 1, 1, 1, 1, 1, 1, 1, 1, 1, 1, 1, 1, 1, 1, 1, 1, 1, 1, 1, 1, 1, 1, 1, 1, 1, 1, 1, 1, 1, 1, 1, 1, 1, 1, 1, 1, 1, 1, 1, 1, 1, 1, 1, 1, 1, 1, 1, 1, 1, 1, 1, 1, 1, 1, 1, 1, 1, 1, 1, 1, 1, 1, 1, 1, 1, 1, 1, 1, 1, 1, 1, 1, 1, 1, 1, 1, 1, 1, 1, 1, 1, 1, 1, 1, 1, 1, 1, 1, 1, 1, 1, 1, 1, 1, 1, 1, 1, 1, 1, 1, 1, 1, 1, 1, 1, 1, 1, 1, 1, 1, 1, 1, 1, 1, 1, 1, 1, 1, 1, 1, 1, 1, 1, 1, 1, 1, 1, 1, 1, 1, 1, 1, 1, 1, 1, 1, 1, 1, 1, 1, 1, 1, 1, 1, 1, 1, 1, 1, 1, 1, 1, 1, 1, 1, 1, 1, 1, 1, 1, 1, 1, 1, 1, 1, 1, 1, 1, 1, 1, 1, 1, 1, 1, 1, 1, 1, 1, 1, 1, 1, 1, 1, 1, 1, 1, 1, 1, 1, 1, 1, 1, 1, 1, 1, 1, 1, 1, 1, 1, 1, 1, 1, 1, 1, 1, 1, 1, 1, 1, 1, 1, 1, 1, 1, 1, 1, 1, 1, 1, 1, 1, 1, 1, 1, 1, 1, 1, 1, 1, 1, 1, 1, 1, 1, 1, 1, 1, 1, 1, 1, 1, 1, 1, 1, 1, 1, 1, 1, 1, 1, 1, 1, 1, 1, 1, 1, 1, 1, 1, 1, 1, 1, 1, 1, 1, 1, 1, 1, 1, 1, 1, 1, 1, 1, 1, 1, 1, 1, 1, 1, 1, 1, 1, 1, 1, 1, 1, 1, 1, 1, 1, 1, 1, 1, 1, 1, 1, 1, 1, 1, 1, 1, 1, 1, 1, 1, 1, 1, 1, 1, 1, 1, 1, 1, 1, 1, 1, 1, 1, 1, 1, 1, 1, 1, 1, 1, 1, 1, 1, 1, 1, 1, 1, 1, 1, 1, 1, 1, 1, 1, 1, 1, 1, 1, 1, 1, 1, 1, 1, 1, 1, 1, 1, 1, 1, 1, 1, 1, 1, 1, 1, 1, 1, 1, 1, 1, 1, 1, 1, 1, 1, 1, 1, 1, 1, 1, 1, 1, 1, 1, 1, 1, 1, 1, 1, 1, 1, 1, 1, 1, 1, 1, 1, 1, 1, 1, 1, 1, 1, 1, 1, 1, 1, 1, 1, 1, 1, 1, 1, 1, 1, 1, 1, 1, 1, 1, 1, 1, 1, 1, 1, 1, 1, 1, 1, 1, 1, 1, 1, 1, 1, 1, 1, 1, 1, 1, 1, 1, 1, 1, 1, 1, 1, 1, 1, 1, 1, 1, 1, 1, 1, 1, 1, 1, 1, 1, 1, 1, 1, 1, 1, 1, 1, 1, 1, 1, 1, 1, 1, 1, 1, 1, 1, 1, 1, 1, 1, 1, 1, 1, 1, 1, 1, 1, 1, 1, 1, 1, 1, 1, 1, 1, 1, 1, 1, 1, 1, 1, 1, 1, 1, 1, 1, 1, 1, 1, 1, 1, 1, 1, 1, 1, 1, 1, 1, 1, 1, 1, 1, 1, 1, 1, 1, 1, 1, 1, 1, 1, 1, 1, 1, 1, 1, 1, 1, 1, 1, 1, 1, 1, 1, 1, 1, 1, 1, 1, 1, 1, 1, 1, 1, 1, 1, 1, 1, 1, 1, 1, 1, 1, 1, 1, 1, 1, 1, 1, 1, 1, 1, 1, 1, 1, 1, 1, 1, 1, 1, 1, 1, 1, 1, 1, 1, 1, 1, 1, 1, 1, 1, 1, 1, 1, 1, 1, 1, 0, 0, 0, 0, 0, 0, 0, 0, 0, 0, 0, 0, 0, 0, 0, 0, 0, 0, 0, 0, 0, 0, 0, 0, 0, 0, 0, 0, 0, 0, 0, 0, 0, 0, 0, 0, 0, 0, 0, 0, 0, 0, 0, 0, 0, 0, 0, 0, 0, 0, 0, 0, 0, 0, 0, 0, 0, 0, 0, 0, 0, 0, 0, 0, 0, 0, 0, 0, 0, 0, 0, 0, 0, 0, 0, 0, 0, 0, 0, 0, 0, 0, 0, 0, 0, 0, 0, 0, 0, 0, 0, 0, 0, 0, 0, 0, 0, 0, 0, 0, 0, 0, 0, 0, 0, 0, 0, 0, 0, 0, 0, 0, 0, 0, 0, 0, 0, 0, 0, 0, 0, 0, 0, 0, 0, 0, 0, 0, 0, 0, 0, 0, 0, 0, 0, 0, 0, 0, 0, 0, 0, 0, 0, 0, 0, 0, 0, 0, 0, 0, 0, 0, 0, 0, 0, 0, 0, 0, 0, 0, 0, 0, 0, 0, 0, 0, 0, 0, 0, 0, 0, 0, 0, 0, 0, 0, 0, 0, 0, 0, 0, 0, 0, 0, 0, 0, 0, 0, 0, 0, 0, 0, 0, 0, 0, 0, 0, 0, 0, 0, 0, 0, 0, 0, 0, 0, 0, 0, 0, 0, 0, 0, 0, 0, 0, 0, 0, 0, 0, 0, 0, 0, 0, 0, 0, 0, 0, 0, 0, 0, 0, 0, 0, 0, 0, 0, 0, 0, 0, 0, 0, 0, 0, 0, 0, 0, 0, 0, 0, 0, 0, 0, 0, 0, 0, 0, 0, 0, 0, 0, 0, 0, 0, 0, 0, 0, 0, 0, 0, 0, 0, 0, 0, 0, 0, 0, 0, 0, 0, 0, 0, 0, 0, 0, 0, 0, 0, 0, 0, 0, 0, 0, 0, 0, 0, 0, 0, 0, 0, 0, 0, 0, 0, 0, 0, 0, 0, 0, 0, 0, 0, 0, 0, 0, 0, 0, 0, 0, 0, 0, 0, 0, 0, 0, 0, 0, 0, 0, 0, 0, 0, 0, 0, 0, 0, 0, 0, 0, 0, 0, 0, 0, 0, 0, 0, 0, 0, 0, 0, 0, 0, 0, 0, 0, 0, 0, 0, 0, 0, 0, 0, 0, 0, 0, 0, 0, 0, 0, 0, 0, 0, 0, 0, 0, 0, 0, 0, 0, 0, 0, 0, 0, 0, 0, 0, 0, 0, 0, 0, 0, 0, 0, 0, 0, 0, 0, 0, 0, 0, 0, 0, 0, 0, 0, 0, 0, 0, 0, 0, 0, 0, 0, 0, 0, 0, 0, 0, 0, 0, 0, 0, 0, 0, 0, 0, 0, 0, 0, 0, 0, 0, 0, 0, 0, 0, 0, 0, 0, 0, 0, 0, 0, 0, 0, 0, 0, 0, 0, 0, 0, 0, 0, 0, 0, 0, 0, 0, 0, 0, 0, 0, 0, 0, 0, 0, 0, 0, 0, 0, 0, 0, 0, 0, 0, 0, 0, 0, 0, 0, 0, 0, 0, 0, 0, 0, 0, 0, 0, 0, 0, 0, 0, 0, 0, 0, 0, 0, 0, 0, 0, 0, 0, 0, 0, 0, 0, 0, 0, 0, 0, 0, 0, 0, 0, 0, 0, 0, 0, 0, 0, 0, 0, 0, 0, 0, 0, 0, 0, 0, 0, 0, 0, 0, 0, 0, 0, 0, 0, 0, 0, 0, 0, 0, 0, 0, 0, 0, 0, 0, 0, 0, 0, 0, 0, 0, 0, 0, 0, 0, 0, 0, 0, 0, 0, 0, 0, 0, 0, 0, 0, 0, 0, 0, 0, 0, 0, 0, 0, 0, 0, 0, 0, 0, 0, 0, 0, 0, 0, 0, 0, 0, 0, 0, 0, 0, 0, 0, 0, 0, 0, 0, 0, 0, 0, 0, 0, 0, 0, 0, 0, 0, 0, 0, 0, 0, 0, 0, 0, 0, 0, 0, 0, 0, 0, 0, 0, 0, 0, 0, 0, 0, 0, 0, 0, 0, 0, 0, 0, 0, 0, 0, 0, 0, 0, 0, 0, 0, 0, 0, 0, 0, 0, 0, 0, 0, 0, 0, 0, 0, 0, 0, 0, 0, 0, 0, 0, 0, 0, 0, 0, 0, 0, 0, 0, 0, 0, 0, 0, 0, 0, 0, 0, 0, 0, 0, 0, 0, 0, 0, 0, 0, 0, 0, 0, 0, 0, 0, 0, 0, 0, 0, 0, 0, 0, 0, 0, 0, 0, 0, 0, 0, 0, 0, 0, 0, 0, 0, 0, 0, 0, 0, 0, 0, 0, 0, 0, 0, 0, 0, 0, 0, 0, 0, 0, 0, 0, 0, 0, 0, 0, 0, 0, 0, 0, 0, 0, 0, 0, 0, 0, 0, 0, 0, 0, 0, 0, 0, 0, 0, 0, 0, 0, 0, 0, 0, 0, 0, 0, 0, 0, 0, 0, 0, 0, 0, 0, 0, 0, 0, 0, 0, 0, 0, 0, 0, 0, 0, 0, 0, 0, 0, 0, 0, 0, 0, 0, 0, 0, 0, 0, 0, 0, 0, 0, 0, 0, 0, 0, 0, 0, 0, 0, 0, 0, 0, 0, 0, 0, 0, 0, 0, 0, 0, 0, 0, 0, 0, 0, 0, 0, 0, 0, 0, 0, 0, 0, 0, 0, 0, 0, 0, 0, 0, 0, 0, 0, 0, 0, 0, 0, 0, 0, 0, 0, 0, 0, 0, 0, 0, 0, 0, 0, 0, 0, 0, 0, 0, 0, 0, 0, 0, 0, 0, 0, 0, 0, 0, 0, 0, 0, 0, 0, 0, 0, 0, 0, 0, 0, 0, 0, 0, 0, 0, 0, 0, 0, 0, 0, 0, 0, 0, 0, 0, 0, 0, 0, 0, 0, 0, 0, 0, 0, 0, 0, 0, 0, 0, 0, 0, 0, 0, 0, 0, 0, 0, 0, 0, 0, 0, 0, 0, 0, 0, 0, 0, 0, 0, 0, 0, 0, 0, 0, 0, 0, 0, 0, 0, 0, 0, 0, 0, 0, 0, 0, 0, 0, 0, 0, 0, 0, 0, 0, 0, 0, 0, 0, 0, 0, 0, 0, 0, 0, 0, 0, 0, 0, 0, 0, 0, 0, 0, 0, 0, 0, 0, 0, 0, 0, 0, 0, 0, 0, 0, 0, 0, 0, 0, 0, 0, 0, 0, 0, 0, 0, 0, 0, 0, 0, 0, 0, 0, 0, 0, 0, 0, 0, 0, 0, 0, 0, 0, 0, 0, 0, 0, 0, 0, 0, 0, 0, 0, 0, 0, 0, 0, 0, 0, 0, 0, 0, 0, 0, 0, 0, 0, 0, 0, 0, 0, 0, 0, 0, 0, 0, 0, 0, 0, 0, 0, 0, 0, 0, 0, 0, 0, 0, 0, 0, 0, 0, 0, 0, 0, 0, 0, 0, 0, 0, 0, 0, 0, 0, 0, 0, 0, 0, 0, 0, 0, 0, 0, 0, 0, 0, 0, 0, 0, 0, 0, 0, 0, 0, 0, 0, 0, 0, 0, 0, 0, 0, 0, 0, 0, 0, 0, 0, 0, 0, 0, 0, 0, 0, 0, 0, 0, 0, 0, 0, 0, 0, 0, 0, 0, 0, 0, 0, 0, 0, 0, 0, 0, 0, 0, 0, 0, 0, 0, 0, 0, 0, 0, 0, 0, 0, 0, 0, 0, 0, 0, 0, 0, 0, 0, 0, 0, 0, 0, 0, 0, 0, 0, 0, 0, 0, 0, 0, 0, 0, 0, 0, 0, 0, 0, 0, 0, 0, 0, 0, 0, 0, 0, 0, 0, 0, 0, 0, 0, 0, 0, 0, 0, 0, 0, 0, 0, 0, 0, 0, 0, 0, 0, 0, 0, 0, 0, 0, 0, 0, 0, 0, 0, 0, 0, 0, 0, 0, 0, 0, 0, 0, 0, 0, 0, 0, 0, 0, 0, 0, 0, 0, 0, 0, 0, 0, 0, 0, 0, 0, 0, 0, 0, 0, 0, 0, 0, 0, 0, 0, 0, 0, 0, 0, 0, 0, 0, 0, 0, 0, 0, 0, 0, 0, 0, 0, 0, 0, 0, 0, 0, 0, 0, 0, 0, 0, 0, 0, 0, 0, 0, 0, 0, 0, 0, 0, 0, 0, 0, 0, 0, 0, 0, 0, 0, 0, 0, 0, 0, 0, 0, 0, 0, 0, 0, 0, 0, 0, 0, 0, 0, 0, 0, 0, 0, 0, 0, 0, 0, 0, 0, 0, 0, 0, 0, 0, 0, 0, 0]\n"
          ],
          "name": "stdout"
        }
      ]
    }
  ]
}